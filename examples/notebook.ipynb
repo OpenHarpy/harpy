{
 "cells": [
  {
   "cell_type": "code",
   "execution_count": 1,
   "metadata": {},
   "outputs": [],
   "source": [
    "import time\n",
    "from harpy import (\n",
    "    Session,\n",
    "    MapTask,\n",
    "    ReduceTask,\n",
    "    TransformTask,\n",
    "    Result,\n",
    "    TaskSetResults\n",
    ")\n",
    "\n",
    "from deltalake import DeltaTable, write_deltalake\n",
    "from harpy.quack import QuackContext\n",
    "import pandas as pd\n",
    "import pyarrow as pa\n",
    "\n",
    "start = time.time()\n",
    "session = Session().create_session()\n",
    "start_after_session = time.time()"
   ]
  },
  {
   "cell_type": "code",
   "execution_count": 2,
   "metadata": {},
   "outputs": [
    {
     "data": {
      "text/html": [
       "<div><div>Step TaskGroup[tg-88778399-0733-4b2e-b29d-69c26e745172]:</div><div><span style=\"display: inline-block; width: 10px; height: 10px; background-color: green; border-radius: 25%; margin-right: 2px;\"></span><span style=\"padding:5px;\">1/1</span></div><div>Step Collecting:</div><div><span style=\"display: inline-block; width: 10px; height: 10px; background-color: green; border-radius: 25%; margin-right: 2px;\"></span><span style=\"padding:5px;\">1/1</span></div></div>"
      ],
      "text/plain": [
       "<IPython.core.display.HTML object>"
      ]
     },
     "metadata": {},
     "output_type": "display_data"
    },
    {
     "data": {
      "text/html": [
       "<div>\n",
       "<style scoped>\n",
       "    .dataframe tbody tr th:only-of-type {\n",
       "        vertical-align: middle;\n",
       "    }\n",
       "\n",
       "    .dataframe tbody tr th {\n",
       "        vertical-align: top;\n",
       "    }\n",
       "\n",
       "    .dataframe thead th {\n",
       "        text-align: right;\n",
       "    }\n",
       "</style>\n",
       "<table border=\"1\" class=\"dataframe\">\n",
       "  <thead>\n",
       "    <tr style=\"text-align: right;\">\n",
       "      <th></th>\n",
       "      <th>fileName</th>\n",
       "      <th>filePath</th>\n",
       "      <th>sizeInBytes</th>\n",
       "    </tr>\n",
       "  </thead>\n",
       "  <tbody>\n",
       "    <tr>\n",
       "      <th>0</th>\n",
       "      <td>motor_colisions</td>\n",
       "      <td>/Volumes/data/motor_colisions</td>\n",
       "      <td>4096</td>\n",
       "    </tr>\n",
       "    <tr>\n",
       "      <th>1</th>\n",
       "      <td>test-big-data</td>\n",
       "      <td>/Volumes/data/test-big-data</td>\n",
       "      <td>4096</td>\n",
       "    </tr>\n",
       "    <tr>\n",
       "      <th>2</th>\n",
       "      <td>Motor_Vehicle_Collisions_-_Crashes.csv</td>\n",
       "      <td>/Volumes/data/Motor_Vehicle_Collisions_-_Crash...</td>\n",
       "      <td>449301967</td>\n",
       "    </tr>\n",
       "    <tr>\n",
       "      <th>3</th>\n",
       "      <td>motor_colisions_silver</td>\n",
       "      <td>/Volumes/data/motor_colisions_silver</td>\n",
       "      <td>4096</td>\n",
       "    </tr>\n",
       "    <tr>\n",
       "      <th>4</th>\n",
       "      <td>Flights_1m.parquet</td>\n",
       "      <td>/Volumes/data/Flights_1m.parquet</td>\n",
       "      <td>12942235</td>\n",
       "    </tr>\n",
       "  </tbody>\n",
       "</table>\n",
       "</div>"
      ],
      "text/plain": [
       "                                 fileName  \\\n",
       "0                         motor_colisions   \n",
       "1                           test-big-data   \n",
       "2  Motor_Vehicle_Collisions_-_Crashes.csv   \n",
       "3                  motor_colisions_silver   \n",
       "4                      Flights_1m.parquet   \n",
       "\n",
       "                                            filePath  sizeInBytes  \n",
       "0                      /Volumes/data/motor_colisions         4096  \n",
       "1                        /Volumes/data/test-big-data         4096  \n",
       "2  /Volumes/data/Motor_Vehicle_Collisions_-_Crash...    449301967  \n",
       "3               /Volumes/data/motor_colisions_silver         4096  \n",
       "4                   /Volumes/data/Flights_1m.parquet     12942235  "
      ]
     },
     "execution_count": 2,
     "metadata": {},
     "output_type": "execute_result"
    }
   ],
   "source": [
    "# This example utilizes the motor_collisions dataset from the NYC Open Data portal\n",
    "# https://catalog.data.gov/dataset/motor-vehicle-collisions-crashes\n",
    "root = \"/Volumes/data/\"\n",
    "#session.fs.ls(\"../_example_data/motor_colisions/\")\n",
    "session.fs.ls(root)"
   ]
  },
  {
   "cell_type": "code",
   "execution_count": 3,
   "metadata": {},
   "outputs": [
    {
     "data": {
      "text/html": [
       "<div><div>Step TaskGroup[tg-b587f504-f953-4638-9a52-61dc8dd70231]:</div><div><span style=\"display: inline-block; width: 10px; height: 10px; background-color: green; border-radius: 25%; margin-right: 2px;\"></span><span style=\"padding:5px;\">1/1</span></div><div>Step Collecting:</div><div><span style=\"display: inline-block; width: 10px; height: 10px; background-color: green; border-radius: 25%; margin-right: 2px;\"></span><span style=\"padding:5px;\">1/1</span></div></div>"
      ],
      "text/plain": [
       "<IPython.core.display.HTML object>"
      ]
     },
     "metadata": {},
     "output_type": "display_data"
    },
    {
     "data": {
      "text/html": [
       "<div><div>Step TaskGroup[tg-6cf8ab12-d9f3-4150-83af-14b1f09a8182]:</div><div><span style=\"display: inline-block; width: 10px; height: 10px; background-color: green; border-radius: 25%; margin-right: 2px;\"></span><span style=\"padding:5px;\">1/1</span></div><div>Step Collecting:</div><div><span style=\"display: inline-block; width: 10px; height: 10px; background-color: green; border-radius: 25%; margin-right: 2px;\"></span><span style=\"padding:5px;\">1/1</span></div></div>"
      ],
      "text/plain": [
       "<IPython.core.display.HTML object>"
      ]
     },
     "metadata": {},
     "output_type": "display_data"
    },
    {
     "data": {
      "text/plain": [
       "True"
      ]
     },
     "execution_count": 3,
     "metadata": {},
     "output_type": "execute_result"
    }
   ],
   "source": [
    "session.fs.rm(root + \"motor_colisions_silver\", recursive=True)\n",
    "session.fs.rm(root + \"motor_colisions\", recursive=True)"
   ]
  },
  {
   "cell_type": "code",
   "execution_count": 4,
   "metadata": {},
   "outputs": [
    {
     "data": {
      "text/html": [
       "<div><div>Step TaskGroup[tg-1aa7df11-6b6d-42ed-9a00-304f1542dd0a]:</div><div><span style=\"display: inline-block; width: 10px; height: 10px; background-color: gray; border-radius: 25%; margin-right: 2px;\"></span><span style=\"padding:5px;\">0/1</span></div></div>"
      ],
      "text/plain": [
       "<IPython.core.display.HTML object>"
      ]
     },
     "metadata": {},
     "output_type": "display_data"
    },
    {
     "data": {
      "text/plain": [
       "True"
      ]
     },
     "execution_count": 4,
     "metadata": {},
     "output_type": "execute_result"
    }
   ],
   "source": [
    "session.fs.mkdir(root + \"motor_colisions\")"
   ]
  },
  {
   "cell_type": "code",
   "execution_count": 5,
   "metadata": {},
   "outputs": [
    {
     "data": {
      "text/html": [
       "<div><div>Step TaskGroup[tg-40967f45-d654-436c-9ac8-33be66ada49f]:</div><div><span style=\"display: inline-block; width: 10px; height: 10px; background-color: green; border-radius: 25%; margin-right: 2px;\"></span><span style=\"padding:5px;\">1/1</span></div><div>Step Collecting:</div><div><span style=\"display: inline-block; width: 10px; height: 10px; background-color: green; border-radius: 25%; margin-right: 2px;\"></span><span style=\"padding:5px;\">1/1</span></div></div>"
      ],
      "text/plain": [
       "<IPython.core.display.HTML object>"
      ]
     },
     "metadata": {},
     "output_type": "display_data"
    }
   ],
   "source": [
    "# Convert the CSV to Parquet format\n",
    "N = 10 # Number of partitions\n",
    "\n",
    "# Read the CSV file\n",
    "df_count = session.sql(f\"SELECT COUNT(*) as count FROM read_csv('{root}Motor_Vehicle_Collisions_-_Crashes.csv')\")\n",
    "total_count = df_count.iloc[0]['count']\n",
    "partition_size = total_count // N\n",
    "remainder = total_count % N"
   ]
  },
  {
   "cell_type": "code",
   "execution_count": 6,
   "metadata": {},
   "outputs": [
    {
     "data": {
      "text/html": [
       "<div><div>Step TaskGroup[tg-59f27202-f958-4f61-8eed-01c2cd62e827]:</div><div><span style=\"display: inline-block; width: 10px; height: 10px; background-color: green; border-radius: 25%; margin-right: 2px;\"></span><span style=\"display: inline-block; width: 10px; height: 10px; background-color: green; border-radius: 25%; margin-right: 2px;\"></span><span style=\"display: inline-block; width: 10px; height: 10px; background-color: green; border-radius: 25%; margin-right: 2px;\"></span><span style=\"display: inline-block; width: 10px; height: 10px; background-color: green; border-radius: 25%; margin-right: 2px;\"></span><span style=\"display: inline-block; width: 10px; height: 10px; background-color: green; border-radius: 25%; margin-right: 2px;\"></span><span style=\"display: inline-block; width: 10px; height: 10px; background-color: green; border-radius: 25%; margin-right: 2px;\"></span><span style=\"display: inline-block; width: 10px; height: 10px; background-color: green; border-radius: 25%; margin-right: 2px;\"></span><span style=\"display: inline-block; width: 10px; height: 10px; background-color: green; border-radius: 25%; margin-right: 2px;\"></span><span style=\"display: inline-block; width: 10px; height: 10px; background-color: green; border-radius: 25%; margin-right: 2px;\"></span><span style=\"display: inline-block; width: 10px; height: 10px; background-color: green; border-radius: 25%; margin-right: 2px;\"></span><span style=\"padding:5px;\">10/10</span></div></div>"
      ],
      "text/plain": [
       "<IPython.core.display.HTML object>"
      ]
     },
     "metadata": {},
     "output_type": "display_data"
    }
   ],
   "source": [
    "# Repartition the data\n",
    "def repart_map(location: str, write_location: str, partition_size: int, index: int, remainder: int) -> None:\n",
    "    offset = partition_size * index\n",
    "    limit = partition_size + (1 if index < remainder else 0)\n",
    "    sql = f\"\"\"\n",
    "        COPY (\n",
    "            SELECT * FROM read_csv('{location}', ALL_VARCHAR=True) LIMIT {limit} OFFSET {offset}\n",
    "        ) TO '{write_location}/file_{index}.parquet' (FORMAT PARQUET, ROW_GROUP_SIZE 1024, COMPRESSION SNAPPY)\n",
    "    \"\"\"\n",
    "    print(f\"Processing partition {index} with offset {offset} and limit {limit}\")\n",
    "    print(f\"Writing to {write_location}/file_{index}.parquet\")\n",
    "\n",
    "    with QuackContext() as q:\n",
    "        q.sql(sql)\n",
    "\n",
    "ts = session.create_task_set()\n",
    "ts.add_maps([\n",
    "    MapTask(\"split\", repart_map, args=[], \n",
    "            kwargs={\n",
    "                'location': f'{root}Motor_Vehicle_Collisions_-_Crashes.csv',\n",
    "                'write_location': root + 'motor_colisions',\n",
    "                'partition_size': partition_size,\n",
    "                'index': i, \n",
    "                'remainder': remainder\n",
    "            }\n",
    "    ) for i in range(N)\n",
    "])\n",
    "ts.run()"
   ]
  },
  {
   "cell_type": "code",
   "execution_count": 7,
   "metadata": {},
   "outputs": [
    {
     "data": {
      "text/html": [
       "<div><div>Step TaskGroup[tg-9d4b3c75-8fd0-4b14-acff-e9d179cccbd8]:</div><div><span style=\"display: inline-block; width: 10px; height: 10px; background-color: gray; border-radius: 25%; margin-right: 2px;\"></span><span style=\"padding:5px;\">0/1</span></div></div>"
      ],
      "text/plain": [
       "<IPython.core.display.HTML object>"
      ]
     },
     "metadata": {},
     "output_type": "display_data"
    },
    {
     "name": "stdout",
     "output_type": "stream",
     "text": [
      "Total input count: 2126535\n",
      "Total output count: 2126535\n"
     ]
    }
   ],
   "source": [
    "# Verify the output\n",
    "count = session.sql(f\"SELECT COUNT(*) as count FROM read_parquet('{root}motor_colisions/*.parquet')\").iloc[0]['count']\n",
    "\n",
    "print(f\"Total input count: {total_count}\")\n",
    "print(f\"Total output count: {count}\")"
   ]
  },
  {
   "cell_type": "code",
   "execution_count": 8,
   "metadata": {},
   "outputs": [],
   "source": [
    "silver_sql = f\"\"\"\n",
    "    SELECT \n",
    "        strptime(CONCAT(\"CRASH DATE\", ' - ', \"CRASH TIME\"), '%m/%d/%Y - %H:%M') as crash_datetime,\n",
    "        \"BOROUGH\" as borough,\n",
    "        \"ZIP CODE\" as zip_code,\n",
    "        \"LATITUDE\" as latitude,\n",
    "        \"LONGITUDE\" as longitude,\n",
    "        \"LOCATION\" as location,\n",
    "        \"ON STREET NAME\" as on_street_name,\n",
    "        \"CROSS STREET NAME\" as cross_street_name,\n",
    "        \"OFF STREET NAME\" as off_street_name,\n",
    "        \"NUMBER OF PERSONS INJURED\" as number_of_persons_injured,\n",
    "        \"NUMBER OF PERSONS KILLED\" as number_of_persons_killed,\n",
    "        \"NUMBER OF PEDESTRIANS INJURED\" as number_of_pedestrians_injured,\n",
    "        \"NUMBER OF PEDESTRIANS KILLED\" as number_of_pedestrians_killed,\n",
    "        \"NUMBER OF CYCLIST INJURED\" as number_of_cyclist_injured,\n",
    "        \"NUMBER OF CYCLIST KILLED\" as number_of_cyclist_killed,\n",
    "        \"NUMBER OF MOTORIST INJURED\" as number_of_motorist_injured,\n",
    "        \"NUMBER OF MOTORIST KILLED\" as number_of_motorist_killed,\n",
    "        \"CONTRIBUTING FACTOR VEHICLE 1\" as contributing_factor_vehicle_1,\n",
    "        \"CONTRIBUTING FACTOR VEHICLE 2\" as contributing_factor_vehicle_2,\n",
    "        \"CONTRIBUTING FACTOR VEHICLE 3\" as contributing_factor_vehicle_3,\n",
    "        \"CONTRIBUTING FACTOR VEHICLE 4\" as contributing_factor_vehicle_4,\n",
    "        \"CONTRIBUTING FACTOR VEHICLE 5\" as contributing_factor_vehicle_5,\n",
    "        \"COLLISION_ID\" as collision_id,\n",
    "        \"VEHICLE TYPE CODE 1\" as vehicle_type_code_1,\n",
    "        \"VEHICLE TYPE CODE 2\" as vehicle_type_code_2,\n",
    "        \"VEHICLE TYPE CODE 3\" as vehicle_type_code_3,\n",
    "        \"VEHICLE TYPE CODE 4\" as vehicle_type_code_4,\n",
    "        \"VEHICLE TYPE CODE 5\" as vehicle_type_code_5\n",
    "    --FROM read_parquet('/Volumes/data/motor_colisions/*.parquet')\n",
    "    FROM read_parquet('{root}motor_colisions/*.parquet')\n",
    "\"\"\""
   ]
  },
  {
   "cell_type": "code",
   "execution_count": 9,
   "metadata": {},
   "outputs": [
    {
     "data": {
      "text/html": [
       "<div><div>Step TaskGroup[tg-a80df3b7-55c3-44a2-85da-cb53ebcc5a9e]:</div><div><span style=\"display: inline-block; width: 10px; height: 10px; background-color: green; border-radius: 25%; margin-right: 2px;\"></span><span style=\"padding:5px;\">1/1</span></div><div>Step Collecting:</div><div><span style=\"display: inline-block; width: 10px; height: 10px; background-color: green; border-radius: 25%; margin-right: 2px;\"></span><span style=\"padding:5px;\">1/1</span></div></div>"
      ],
      "text/plain": [
       "<IPython.core.display.HTML object>"
      ]
     },
     "metadata": {},
     "output_type": "display_data"
    },
    {
     "data": {
      "text/plain": [
       "True"
      ]
     },
     "execution_count": 9,
     "metadata": {},
     "output_type": "execute_result"
    }
   ],
   "source": [
    "session.fs.mkdir(root + \"motor_colisions_silver\")"
   ]
  },
  {
   "cell_type": "code",
   "execution_count": 10,
   "metadata": {},
   "outputs": [
    {
     "data": {
      "text/html": [
       "<div><div>Step TaskGroup[tg-881aad54-4fb2-47bf-a622-f75c5c147ec3]:</div><div><span style=\"display: inline-block; width: 10px; height: 10px; background-color: green; border-radius: 25%; margin-right: 2px;\"></span><span style=\"padding:5px;\">1/1</span></div><div>Step TaskGroup[tg-5f5e33ed-6836-40cf-9bc9-4bfdf4162f63]:</div><div><span style=\"display: inline-block; width: 10px; height: 10px; background-color: green; border-radius: 25%; margin-right: 2px;\"></span><span style=\"padding:5px;\">1/1</span></div></div>"
      ],
      "text/plain": [
       "<IPython.core.display.HTML object>"
      ]
     },
     "metadata": {},
     "output_type": "display_data"
    }
   ],
   "source": [
    "from harpy.tasksets.tasks import taskset_from_sql, write_to_deltalake\n",
    "\n",
    "taskset = taskset_from_sql(silver_sql)\n",
    "write_to_deltalake(taskset, root + \"motor_colisions_silver\")\n",
    "taskset.run()"
   ]
  },
  {
   "cell_type": "code",
   "execution_count": 11,
   "metadata": {},
   "outputs": [
    {
     "data": {
      "text/html": [
       "<div><div>Step TaskGroup[tg-a3b97670-a610-45f2-a9ea-1f88f923d377]:</div><div><span style=\"display: inline-block; width: 10px; height: 10px; background-color: green; border-radius: 25%; margin-right: 2px;\"></span><span style=\"padding:5px;\">1/1</span></div><div>Step Collecting:</div><div><span style=\"display: inline-block; width: 10px; height: 10px; background-color: green; border-radius: 25%; margin-right: 2px;\"></span><span style=\"padding:5px;\">1/1</span></div></div>"
      ],
      "text/plain": [
       "<IPython.core.display.HTML object>"
      ]
     },
     "metadata": {},
     "output_type": "display_data"
    },
    {
     "data": {
      "text/plain": [
       "np.int64(2126535)"
      ]
     },
     "execution_count": 11,
     "metadata": {},
     "output_type": "execute_result"
    }
   ],
   "source": [
    "session.sql(f\"SELECT COUNT(*) as count FROM delta_scan('{root}motor_colisions_silver')\").iloc[0]['count']"
   ]
  },
  {
   "cell_type": "code",
   "execution_count": 12,
   "metadata": {},
   "outputs": [
    {
     "data": {
      "text/plain": [
       "<harpy.session.Session at 0x7fdc51cfb490>"
      ]
     },
     "execution_count": 12,
     "metadata": {},
     "output_type": "execute_result"
    }
   ],
   "source": [
    "session.close()"
   ]
  },
  {
   "cell_type": "code",
   "execution_count": 13,
   "metadata": {},
   "outputs": [
    {
     "name": "stdout",
     "output_type": "stream",
     "text": [
      "Total wall-clock: 56.2147855758667\n",
      "Total time: 55.14059805870056\n"
     ]
    }
   ],
   "source": [
    "stop = time.time()\n",
    "print(f\"Total wall-clock: {stop - start}\")\n",
    "print(f\"Total time: {stop - start_after_session}\")"
   ]
  }
 ],
 "metadata": {
  "kernelspec": {
   "display_name": "pyharpy-bb_Z307N-py3.10",
   "language": "python",
   "name": "python3"
  },
  "language_info": {
   "codemirror_mode": {
    "name": "ipython",
    "version": 3
   },
   "file_extension": ".py",
   "mimetype": "text/x-python",
   "name": "python",
   "nbconvert_exporter": "python",
   "pygments_lexer": "ipython3",
   "version": "3.10.12"
  }
 },
 "nbformat": 4,
 "nbformat_minor": 2
}

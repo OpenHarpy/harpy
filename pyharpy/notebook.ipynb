{
 "cells": [
  {
   "cell_type": "code",
   "execution_count": 1,
   "metadata": {},
   "outputs": [
    {
     "ename": "_InactiveRpcError",
     "evalue": "<_InactiveRpcError of RPC that terminated with:\n\tstatus = StatusCode.UNAVAILABLE\n\tdetails = \"Socket closed\"\n\tdebug_error_string = \"UNKNOWN:Error received from peer  {grpc_message:\"Socket closed\", grpc_status:14, created_time:\"2024-10-06T12:56:57.026414994+00:00\"}\"\n>",
     "output_type": "error",
     "traceback": [
      "\u001b[0;31m---------------------------------------------------------------------------\u001b[0m",
      "\u001b[0;31m_InactiveRpcError\u001b[0m                         Traceback (most recent call last)",
      "Cell \u001b[0;32mIn[1], line 10\u001b[0m\n\u001b[1;32m      1\u001b[0m \u001b[38;5;28;01mfrom\u001b[39;00m \u001b[38;5;21;01mharpy\u001b[39;00m \u001b[38;5;28;01mimport\u001b[39;00m (\n\u001b[1;32m      2\u001b[0m     Session,\n\u001b[1;32m      3\u001b[0m     MapTask,\n\u001b[0;32m   (...)\u001b[0m\n\u001b[1;32m      7\u001b[0m     TaskSetResults\n\u001b[1;32m      8\u001b[0m )\n\u001b[0;32m---> 10\u001b[0m session \u001b[38;5;241m=\u001b[39m \u001b[43mSession\u001b[49m\u001b[43m(\u001b[49m\u001b[43m)\u001b[49m\u001b[38;5;241;43m.\u001b[39;49m\u001b[43mcreate_session\u001b[49m\u001b[43m(\u001b[49m\u001b[43m)\u001b[49m\n",
      "File \u001b[0;32m~/project-quack/harpy/pyharpy/harpy/session/__init__.py:63\u001b[0m, in \u001b[0;36mSession.create_session\u001b[0;34m(self)\u001b[0m\n\u001b[1;32m     59\u001b[0m     \u001b[38;5;28mself\u001b[39m\u001b[38;5;241m.\u001b[39m_session_stub \u001b[38;5;241m=\u001b[39m SessionStub(grpc\u001b[38;5;241m.\u001b[39minsecure_channel(\n\u001b[1;32m     60\u001b[0m         \u001b[38;5;124mf\u001b[39m\u001b[38;5;124m\"\u001b[39m\u001b[38;5;132;01m{\u001b[39;00m\u001b[38;5;28mself\u001b[39m\u001b[38;5;241m.\u001b[39mconf\u001b[38;5;241m.\u001b[39mget(\u001b[38;5;124m'\u001b[39m\u001b[38;5;124msdk.remote.controller.grpcHost\u001b[39m\u001b[38;5;124m'\u001b[39m)\u001b[38;5;132;01m}\u001b[39;00m\u001b[38;5;124m:\u001b[39m\u001b[38;5;132;01m{\u001b[39;00m\u001b[38;5;28mself\u001b[39m\u001b[38;5;241m.\u001b[39mconf\u001b[38;5;241m.\u001b[39mget(\u001b[38;5;124m'\u001b[39m\u001b[38;5;124msdk.remote.controller.grpcPort\u001b[39m\u001b[38;5;124m'\u001b[39m)\u001b[38;5;132;01m}\u001b[39;00m\u001b[38;5;124m\"\u001b[39m\n\u001b[1;32m     61\u001b[0m     ))\n\u001b[1;32m     62\u001b[0m     session_request: SessionRequest \u001b[38;5;241m=\u001b[39m SessionRequest(Options\u001b[38;5;241m=\u001b[39m\u001b[38;5;28mself\u001b[39m\u001b[38;5;241m.\u001b[39mconf\u001b[38;5;241m.\u001b[39mgetAllConfigs())\n\u001b[0;32m---> 63\u001b[0m     \u001b[38;5;28mself\u001b[39m\u001b[38;5;241m.\u001b[39m_session_handler \u001b[38;5;241m=\u001b[39m \u001b[38;5;28;43mself\u001b[39;49m\u001b[38;5;241;43m.\u001b[39;49m\u001b[43m_session_stub\u001b[49m\u001b[38;5;241;43m.\u001b[39;49m\u001b[43mCreateSession\u001b[49m\u001b[43m(\u001b[49m\u001b[43msession_request\u001b[49m\u001b[43m)\u001b[49m\n\u001b[1;32m     64\u001b[0m     \u001b[38;5;28;01mreturn\u001b[39;00m \u001b[38;5;28mself\u001b[39m\n\u001b[1;32m     65\u001b[0m \u001b[38;5;28;01melse\u001b[39;00m:\n",
      "File \u001b[0;32m~/.cache/pypoetry/virtualenvs/pyharpy-bb_Z307N-py3.10/lib/python3.10/site-packages/grpc/_channel.py:1181\u001b[0m, in \u001b[0;36m_UnaryUnaryMultiCallable.__call__\u001b[0;34m(self, request, timeout, metadata, credentials, wait_for_ready, compression)\u001b[0m\n\u001b[1;32m   1166\u001b[0m \u001b[38;5;28;01mdef\u001b[39;00m \u001b[38;5;21m__call__\u001b[39m(\n\u001b[1;32m   1167\u001b[0m     \u001b[38;5;28mself\u001b[39m,\n\u001b[1;32m   1168\u001b[0m     request: Any,\n\u001b[0;32m   (...)\u001b[0m\n\u001b[1;32m   1173\u001b[0m     compression: Optional[grpc\u001b[38;5;241m.\u001b[39mCompression] \u001b[38;5;241m=\u001b[39m \u001b[38;5;28;01mNone\u001b[39;00m,\n\u001b[1;32m   1174\u001b[0m ) \u001b[38;5;241m-\u001b[39m\u001b[38;5;241m>\u001b[39m Any:\n\u001b[1;32m   1175\u001b[0m     (\n\u001b[1;32m   1176\u001b[0m         state,\n\u001b[1;32m   1177\u001b[0m         call,\n\u001b[1;32m   1178\u001b[0m     ) \u001b[38;5;241m=\u001b[39m \u001b[38;5;28mself\u001b[39m\u001b[38;5;241m.\u001b[39m_blocking(\n\u001b[1;32m   1179\u001b[0m         request, timeout, metadata, credentials, wait_for_ready, compression\n\u001b[1;32m   1180\u001b[0m     )\n\u001b[0;32m-> 1181\u001b[0m     \u001b[38;5;28;01mreturn\u001b[39;00m \u001b[43m_end_unary_response_blocking\u001b[49m\u001b[43m(\u001b[49m\u001b[43mstate\u001b[49m\u001b[43m,\u001b[49m\u001b[43m \u001b[49m\u001b[43mcall\u001b[49m\u001b[43m,\u001b[49m\u001b[43m \u001b[49m\u001b[38;5;28;43;01mFalse\u001b[39;49;00m\u001b[43m,\u001b[49m\u001b[43m \u001b[49m\u001b[38;5;28;43;01mNone\u001b[39;49;00m\u001b[43m)\u001b[49m\n",
      "File \u001b[0;32m~/.cache/pypoetry/virtualenvs/pyharpy-bb_Z307N-py3.10/lib/python3.10/site-packages/grpc/_channel.py:1006\u001b[0m, in \u001b[0;36m_end_unary_response_blocking\u001b[0;34m(state, call, with_call, deadline)\u001b[0m\n\u001b[1;32m   1004\u001b[0m         \u001b[38;5;28;01mreturn\u001b[39;00m state\u001b[38;5;241m.\u001b[39mresponse\n\u001b[1;32m   1005\u001b[0m \u001b[38;5;28;01melse\u001b[39;00m:\n\u001b[0;32m-> 1006\u001b[0m     \u001b[38;5;28;01mraise\u001b[39;00m _InactiveRpcError(state)\n",
      "\u001b[0;31m_InactiveRpcError\u001b[0m: <_InactiveRpcError of RPC that terminated with:\n\tstatus = StatusCode.UNAVAILABLE\n\tdetails = \"Socket closed\"\n\tdebug_error_string = \"UNKNOWN:Error received from peer  {grpc_message:\"Socket closed\", grpc_status:14, created_time:\"2024-10-06T12:56:57.026414994+00:00\"}\"\n>"
     ]
    }
   ],
   "source": [
    "from harpy import (\n",
    "    Session,\n",
    "    MapTask,\n",
    "    ReduceTask,\n",
    "    TransformTask,\n",
    "    Result,\n",
    "    TaskSetResults\n",
    ")\n",
    "\n",
    "session = Session().create_session()"
   ]
  },
  {
   "cell_type": "code",
   "execution_count": 2,
   "metadata": {},
   "outputs": [
    {
     "name": "stdout",
     "output_type": "stream",
     "text": [
      "TaskSet ts-0b6ce951-085c-4b11-b73d-a9632f254fbc: running\n",
      "TaskGroup tg-7520d4ca-a5eb-41a8-858c-92d92cd08046 made progress\n",
      "TaskGroup tg-7520d4ca-a5eb-41a8-858c-92d92cd08046 made progress\n",
      "Task tg-7520d4ca-a5eb-41a8-858c-92d92cd08046-tr-0: queued\n",
      "TaskGroup tg-7520d4ca-a5eb-41a8-858c-92d92cd08046 made progress\n",
      "Task tg-7520d4ca-a5eb-41a8-858c-92d92cd08046-tr-0: running\n",
      "Task tg-7520d4ca-a5eb-41a8-858c-92d92cd08046-tr-0: done\n",
      "TaskGroup tg-7520d4ca-a5eb-41a8-858c-92d92cd08046 made progress\n",
      "TaskSet ts-0b6ce951-085c-4b11-b73d-a9632f254fbc: compleated\n",
      "Getting results\n"
     ]
    }
   ],
   "source": [
    "path = \"/home/ghhwer/project-quack/backend/client-engine/_example_data/Flights_1m.parquet\"\n",
    "result = session.sql(f\"SELECT * FROM read_parquet('{path}')\")"
   ]
  },
  {
   "cell_type": "code",
   "execution_count": 3,
   "metadata": {},
   "outputs": [
    {
     "data": {
      "text/html": [
       "<div>\n",
       "<style scoped>\n",
       "    .dataframe tbody tr th:only-of-type {\n",
       "        vertical-align: middle;\n",
       "    }\n",
       "\n",
       "    .dataframe tbody tr th {\n",
       "        vertical-align: top;\n",
       "    }\n",
       "\n",
       "    .dataframe thead th {\n",
       "        text-align: right;\n",
       "    }\n",
       "</style>\n",
       "<table border=\"1\" class=\"dataframe\">\n",
       "  <thead>\n",
       "    <tr style=\"text-align: right;\">\n",
       "      <th></th>\n",
       "      <th>FL_DATE</th>\n",
       "      <th>DEP_DELAY</th>\n",
       "      <th>ARR_DELAY</th>\n",
       "      <th>AIR_TIME</th>\n",
       "      <th>DISTANCE</th>\n",
       "      <th>DEP_TIME</th>\n",
       "      <th>ARR_TIME</th>\n",
       "    </tr>\n",
       "  </thead>\n",
       "  <tbody>\n",
       "    <tr>\n",
       "      <th>0</th>\n",
       "      <td>2006-01-01</td>\n",
       "      <td>5</td>\n",
       "      <td>19</td>\n",
       "      <td>350</td>\n",
       "      <td>2475</td>\n",
       "      <td>9.083333</td>\n",
       "      <td>12.483334</td>\n",
       "    </tr>\n",
       "    <tr>\n",
       "      <th>1</th>\n",
       "      <td>2006-01-02</td>\n",
       "      <td>167</td>\n",
       "      <td>216</td>\n",
       "      <td>343</td>\n",
       "      <td>2475</td>\n",
       "      <td>11.783334</td>\n",
       "      <td>15.766666</td>\n",
       "    </tr>\n",
       "    <tr>\n",
       "      <th>2</th>\n",
       "      <td>2006-01-03</td>\n",
       "      <td>-7</td>\n",
       "      <td>-2</td>\n",
       "      <td>344</td>\n",
       "      <td>2475</td>\n",
       "      <td>8.883333</td>\n",
       "      <td>12.133333</td>\n",
       "    </tr>\n",
       "    <tr>\n",
       "      <th>3</th>\n",
       "      <td>2006-01-04</td>\n",
       "      <td>-5</td>\n",
       "      <td>-13</td>\n",
       "      <td>331</td>\n",
       "      <td>2475</td>\n",
       "      <td>8.916667</td>\n",
       "      <td>11.950000</td>\n",
       "    </tr>\n",
       "    <tr>\n",
       "      <th>4</th>\n",
       "      <td>2006-01-05</td>\n",
       "      <td>-3</td>\n",
       "      <td>-17</td>\n",
       "      <td>321</td>\n",
       "      <td>2475</td>\n",
       "      <td>8.950000</td>\n",
       "      <td>11.883333</td>\n",
       "    </tr>\n",
       "    <tr>\n",
       "      <th>...</th>\n",
       "      <td>...</td>\n",
       "      <td>...</td>\n",
       "      <td>...</td>\n",
       "      <td>...</td>\n",
       "      <td>...</td>\n",
       "      <td>...</td>\n",
       "      <td>...</td>\n",
       "    </tr>\n",
       "    <tr>\n",
       "      <th>999995</th>\n",
       "      <td>2006-02-20</td>\n",
       "      <td>87</td>\n",
       "      <td>86</td>\n",
       "      <td>71</td>\n",
       "      <td>545</td>\n",
       "      <td>19.733334</td>\n",
       "      <td>21.333334</td>\n",
       "    </tr>\n",
       "    <tr>\n",
       "      <th>999996</th>\n",
       "      <td>2006-02-20</td>\n",
       "      <td>-2</td>\n",
       "      <td>0</td>\n",
       "      <td>71</td>\n",
       "      <td>508</td>\n",
       "      <td>8.050000</td>\n",
       "      <td>9.583333</td>\n",
       "    </tr>\n",
       "    <tr>\n",
       "      <th>999997</th>\n",
       "      <td>2006-02-20</td>\n",
       "      <td>33</td>\n",
       "      <td>19</td>\n",
       "      <td>64</td>\n",
       "      <td>508</td>\n",
       "      <td>14.700000</td>\n",
       "      <td>15.983334</td>\n",
       "    </tr>\n",
       "    <tr>\n",
       "      <th>999998</th>\n",
       "      <td>2006-02-20</td>\n",
       "      <td>65</td>\n",
       "      <td>54</td>\n",
       "      <td>65</td>\n",
       "      <td>508</td>\n",
       "      <td>17.633333</td>\n",
       "      <td>18.983334</td>\n",
       "    </tr>\n",
       "    <tr>\n",
       "      <th>999999</th>\n",
       "      <td>2006-02-20</td>\n",
       "      <td>141</td>\n",
       "      <td>135</td>\n",
       "      <td>70</td>\n",
       "      <td>508</td>\n",
       "      <td>1.183333</td>\n",
       "      <td>2.616667</td>\n",
       "    </tr>\n",
       "  </tbody>\n",
       "</table>\n",
       "<p>1000000 rows × 7 columns</p>\n",
       "</div>"
      ],
      "text/plain": [
       "          FL_DATE  DEP_DELAY  ARR_DELAY  AIR_TIME  DISTANCE   DEP_TIME  \\\n",
       "0      2006-01-01          5         19       350      2475   9.083333   \n",
       "1      2006-01-02        167        216       343      2475  11.783334   \n",
       "2      2006-01-03         -7         -2       344      2475   8.883333   \n",
       "3      2006-01-04         -5        -13       331      2475   8.916667   \n",
       "4      2006-01-05         -3        -17       321      2475   8.950000   \n",
       "...           ...        ...        ...       ...       ...        ...   \n",
       "999995 2006-02-20         87         86        71       545  19.733334   \n",
       "999996 2006-02-20         -2          0        71       508   8.050000   \n",
       "999997 2006-02-20         33         19        64       508  14.700000   \n",
       "999998 2006-02-20         65         54        65       508  17.633333   \n",
       "999999 2006-02-20        141        135        70       508   1.183333   \n",
       "\n",
       "         ARR_TIME  \n",
       "0       12.483334  \n",
       "1       15.766666  \n",
       "2       12.133333  \n",
       "3       11.950000  \n",
       "4       11.883333  \n",
       "...           ...  \n",
       "999995  21.333334  \n",
       "999996   9.583333  \n",
       "999997  15.983334  \n",
       "999998  18.983334  \n",
       "999999   2.616667  \n",
       "\n",
       "[1000000 rows x 7 columns]"
      ]
     },
     "execution_count": 3,
     "metadata": {},
     "output_type": "execute_result"
    }
   ],
   "source": [
    "result"
   ]
  },
  {
   "cell_type": "code",
   "execution_count": 4,
   "metadata": {},
   "outputs": [
    {
     "name": "stdout",
     "output_type": "stream",
     "text": [
      "TaskSet ts-fed9e032-562e-460b-8319-7f2d54223c74: running\n",
      "TaskGroup tg-5198e9bc-9b9a-40d7-a0df-92cca6f0289e made progress\n",
      "TaskGroup tg-5198e9bc-9b9a-40d7-a0df-92cca6f0289e made progress\n",
      "Task tg-5198e9bc-9b9a-40d7-a0df-92cca6f0289e-tr-0: queued\n",
      "TaskGroup tg-5198e9bc-9b9a-40d7-a0df-92cca6f0289e made progress\n",
      "Task tg-5198e9bc-9b9a-40d7-a0df-92cca6f0289e-tr-0: running\n",
      "Task tg-5198e9bc-9b9a-40d7-a0df-92cca6f0289e-tr-0: done\n",
      "TaskGroup tg-5198e9bc-9b9a-40d7-a0df-92cca6f0289e made progress\n",
      "TaskSet ts-fed9e032-562e-460b-8319-7f2d54223c74: compleated\n",
      "Getting results\n"
     ]
    }
   ],
   "source": [
    "result = session.sql(f\"SELECT max(FL_DATE) FROM read_parquet('{path}')\")"
   ]
  },
  {
   "cell_type": "code",
   "execution_count": 5,
   "metadata": {},
   "outputs": [
    {
     "data": {
      "text/html": [
       "<div>\n",
       "<style scoped>\n",
       "    .dataframe tbody tr th:only-of-type {\n",
       "        vertical-align: middle;\n",
       "    }\n",
       "\n",
       "    .dataframe tbody tr th {\n",
       "        vertical-align: top;\n",
       "    }\n",
       "\n",
       "    .dataframe thead th {\n",
       "        text-align: right;\n",
       "    }\n",
       "</style>\n",
       "<table border=\"1\" class=\"dataframe\">\n",
       "  <thead>\n",
       "    <tr style=\"text-align: right;\">\n",
       "      <th></th>\n",
       "      <th>max(FL_DATE)</th>\n",
       "    </tr>\n",
       "  </thead>\n",
       "  <tbody>\n",
       "    <tr>\n",
       "      <th>0</th>\n",
       "      <td>2006-02-28</td>\n",
       "    </tr>\n",
       "  </tbody>\n",
       "</table>\n",
       "</div>"
      ],
      "text/plain": [
       "  max(FL_DATE)\n",
       "0   2006-02-28"
      ]
     },
     "execution_count": 5,
     "metadata": {},
     "output_type": "execute_result"
    }
   ],
   "source": [
    "result"
   ]
  },
  {
   "cell_type": "code",
   "execution_count": 6,
   "metadata": {},
   "outputs": [
    {
     "data": {
      "text/plain": [
       "<harpy.session.Session at 0x7fd4d414c730>"
      ]
     },
     "execution_count": 6,
     "metadata": {},
     "output_type": "execute_result"
    }
   ],
   "source": [
    "session.close()"
   ]
  },
  {
   "cell_type": "code",
   "execution_count": null,
   "metadata": {},
   "outputs": [],
   "source": []
  }
 ],
 "metadata": {
  "kernelspec": {
   "display_name": "py-client-l-33JfS0-py3.10",
   "language": "python",
   "name": "python3"
  },
  "language_info": {
   "codemirror_mode": {
    "name": "ipython",
    "version": 3
   },
   "file_extension": ".py",
   "mimetype": "text/x-python",
   "name": "python",
   "nbconvert_exporter": "python",
   "pygments_lexer": "ipython3",
   "version": "3.10.12"
  }
 },
 "nbformat": 4,
 "nbformat_minor": 2
}

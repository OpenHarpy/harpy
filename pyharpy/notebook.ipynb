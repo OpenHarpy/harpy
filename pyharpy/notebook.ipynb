{
 "cells": [
  {
   "cell_type": "code",
   "execution_count": 1,
   "metadata": {},
   "outputs": [],
   "source": [
    "from harpy import (\n",
    "    Session,\n",
    "    MapTask,\n",
    "    ReduceTask,\n",
    "    TransformTask,\n",
    "    Result,\n",
    "    TaskSetResults\n",
    ")\n",
    "\n",
    "session = Session().create_session()"
   ]
  },
  {
   "cell_type": "code",
   "execution_count": 2,
   "metadata": {},
   "outputs": [
    {
     "name": "stdout",
     "output_type": "stream",
     "text": [
      "TaskSet ts-89068203-32dc-496c-82c7-e934d360a1df: running\n",
      "TaskGroup tg-794c4fa1-01b9-4dcc-9040-fc144b4b5816 made progress\n",
      "TaskGroup tg-794c4fa1-01b9-4dcc-9040-fc144b4b5816 made progress\n",
      "Task tg-794c4fa1-01b9-4dcc-9040-fc144b4b5816-tr-0: queued\n",
      "TaskGroup tg-794c4fa1-01b9-4dcc-9040-fc144b4b5816 made progress\n",
      "Task tg-794c4fa1-01b9-4dcc-9040-fc144b4b5816-tr-0: running\n",
      "Task tg-794c4fa1-01b9-4dcc-9040-fc144b4b5816-tr-0: done\n",
      "TaskGroup tg-794c4fa1-01b9-4dcc-9040-fc144b4b5816 made progress\n",
      "TaskSet ts-89068203-32dc-496c-82c7-e934d360a1df: compleated\n",
      "Getting results\n"
     ]
    }
   ],
   "source": [
    "path = \"/home/ghhwer/project-quack/backend/client-engine/_example_data/Flights_1m.parquet\"\n",
    "result = session.sql(f\"SELECT * FROM read_parquet('{path}')\")"
   ]
  },
  {
   "cell_type": "code",
   "execution_count": 3,
   "metadata": {},
   "outputs": [
    {
     "data": {
      "text/html": [
       "<div>\n",
       "<style scoped>\n",
       "    .dataframe tbody tr th:only-of-type {\n",
       "        vertical-align: middle;\n",
       "    }\n",
       "\n",
       "    .dataframe tbody tr th {\n",
       "        vertical-align: top;\n",
       "    }\n",
       "\n",
       "    .dataframe thead th {\n",
       "        text-align: right;\n",
       "    }\n",
       "</style>\n",
       "<table border=\"1\" class=\"dataframe\">\n",
       "  <thead>\n",
       "    <tr style=\"text-align: right;\">\n",
       "      <th></th>\n",
       "      <th>FL_DATE</th>\n",
       "      <th>DEP_DELAY</th>\n",
       "      <th>ARR_DELAY</th>\n",
       "      <th>AIR_TIME</th>\n",
       "      <th>DISTANCE</th>\n",
       "      <th>DEP_TIME</th>\n",
       "      <th>ARR_TIME</th>\n",
       "    </tr>\n",
       "  </thead>\n",
       "  <tbody>\n",
       "    <tr>\n",
       "      <th>0</th>\n",
       "      <td>2006-01-01</td>\n",
       "      <td>5</td>\n",
       "      <td>19</td>\n",
       "      <td>350</td>\n",
       "      <td>2475</td>\n",
       "      <td>9.083333</td>\n",
       "      <td>12.483334</td>\n",
       "    </tr>\n",
       "    <tr>\n",
       "      <th>1</th>\n",
       "      <td>2006-01-02</td>\n",
       "      <td>167</td>\n",
       "      <td>216</td>\n",
       "      <td>343</td>\n",
       "      <td>2475</td>\n",
       "      <td>11.783334</td>\n",
       "      <td>15.766666</td>\n",
       "    </tr>\n",
       "    <tr>\n",
       "      <th>2</th>\n",
       "      <td>2006-01-03</td>\n",
       "      <td>-7</td>\n",
       "      <td>-2</td>\n",
       "      <td>344</td>\n",
       "      <td>2475</td>\n",
       "      <td>8.883333</td>\n",
       "      <td>12.133333</td>\n",
       "    </tr>\n",
       "    <tr>\n",
       "      <th>3</th>\n",
       "      <td>2006-01-04</td>\n",
       "      <td>-5</td>\n",
       "      <td>-13</td>\n",
       "      <td>331</td>\n",
       "      <td>2475</td>\n",
       "      <td>8.916667</td>\n",
       "      <td>11.950000</td>\n",
       "    </tr>\n",
       "    <tr>\n",
       "      <th>4</th>\n",
       "      <td>2006-01-05</td>\n",
       "      <td>-3</td>\n",
       "      <td>-17</td>\n",
       "      <td>321</td>\n",
       "      <td>2475</td>\n",
       "      <td>8.950000</td>\n",
       "      <td>11.883333</td>\n",
       "    </tr>\n",
       "    <tr>\n",
       "      <th>...</th>\n",
       "      <td>...</td>\n",
       "      <td>...</td>\n",
       "      <td>...</td>\n",
       "      <td>...</td>\n",
       "      <td>...</td>\n",
       "      <td>...</td>\n",
       "      <td>...</td>\n",
       "    </tr>\n",
       "    <tr>\n",
       "      <th>999995</th>\n",
       "      <td>2006-02-20</td>\n",
       "      <td>87</td>\n",
       "      <td>86</td>\n",
       "      <td>71</td>\n",
       "      <td>545</td>\n",
       "      <td>19.733334</td>\n",
       "      <td>21.333334</td>\n",
       "    </tr>\n",
       "    <tr>\n",
       "      <th>999996</th>\n",
       "      <td>2006-02-20</td>\n",
       "      <td>-2</td>\n",
       "      <td>0</td>\n",
       "      <td>71</td>\n",
       "      <td>508</td>\n",
       "      <td>8.050000</td>\n",
       "      <td>9.583333</td>\n",
       "    </tr>\n",
       "    <tr>\n",
       "      <th>999997</th>\n",
       "      <td>2006-02-20</td>\n",
       "      <td>33</td>\n",
       "      <td>19</td>\n",
       "      <td>64</td>\n",
       "      <td>508</td>\n",
       "      <td>14.700000</td>\n",
       "      <td>15.983334</td>\n",
       "    </tr>\n",
       "    <tr>\n",
       "      <th>999998</th>\n",
       "      <td>2006-02-20</td>\n",
       "      <td>65</td>\n",
       "      <td>54</td>\n",
       "      <td>65</td>\n",
       "      <td>508</td>\n",
       "      <td>17.633333</td>\n",
       "      <td>18.983334</td>\n",
       "    </tr>\n",
       "    <tr>\n",
       "      <th>999999</th>\n",
       "      <td>2006-02-20</td>\n",
       "      <td>141</td>\n",
       "      <td>135</td>\n",
       "      <td>70</td>\n",
       "      <td>508</td>\n",
       "      <td>1.183333</td>\n",
       "      <td>2.616667</td>\n",
       "    </tr>\n",
       "  </tbody>\n",
       "</table>\n",
       "<p>1000000 rows × 7 columns</p>\n",
       "</div>"
      ],
      "text/plain": [
       "          FL_DATE  DEP_DELAY  ARR_DELAY  AIR_TIME  DISTANCE   DEP_TIME  \\\n",
       "0      2006-01-01          5         19       350      2475   9.083333   \n",
       "1      2006-01-02        167        216       343      2475  11.783334   \n",
       "2      2006-01-03         -7         -2       344      2475   8.883333   \n",
       "3      2006-01-04         -5        -13       331      2475   8.916667   \n",
       "4      2006-01-05         -3        -17       321      2475   8.950000   \n",
       "...           ...        ...        ...       ...       ...        ...   \n",
       "999995 2006-02-20         87         86        71       545  19.733334   \n",
       "999996 2006-02-20         -2          0        71       508   8.050000   \n",
       "999997 2006-02-20         33         19        64       508  14.700000   \n",
       "999998 2006-02-20         65         54        65       508  17.633333   \n",
       "999999 2006-02-20        141        135        70       508   1.183333   \n",
       "\n",
       "         ARR_TIME  \n",
       "0       12.483334  \n",
       "1       15.766666  \n",
       "2       12.133333  \n",
       "3       11.950000  \n",
       "4       11.883333  \n",
       "...           ...  \n",
       "999995  21.333334  \n",
       "999996   9.583333  \n",
       "999997  15.983334  \n",
       "999998  18.983334  \n",
       "999999   2.616667  \n",
       "\n",
       "[1000000 rows x 7 columns]"
      ]
     },
     "execution_count": 3,
     "metadata": {},
     "output_type": "execute_result"
    }
   ],
   "source": [
    "result"
   ]
  },
  {
   "cell_type": "code",
   "execution_count": 4,
   "metadata": {},
   "outputs": [
    {
     "name": "stdout",
     "output_type": "stream",
     "text": [
      "TaskSet ts-ef042426-64cd-4dd8-a98c-f33806d3663f: running\n",
      "TaskGroup tg-bdd4ed3f-0e03-4c95-bf73-20d87d726b20 made progress\n",
      "TaskGroup tg-bdd4ed3f-0e03-4c95-bf73-20d87d726b20 made progress\n",
      "Task tg-bdd4ed3f-0e03-4c95-bf73-20d87d726b20-tr-0: queued\n",
      "TaskGroup tg-bdd4ed3f-0e03-4c95-bf73-20d87d726b20 made progress\n",
      "Task tg-bdd4ed3f-0e03-4c95-bf73-20d87d726b20-tr-0: running\n",
      "Task tg-bdd4ed3f-0e03-4c95-bf73-20d87d726b20-tr-0: done\n",
      "TaskGroup tg-bdd4ed3f-0e03-4c95-bf73-20d87d726b20 made progress\n",
      "TaskSet ts-ef042426-64cd-4dd8-a98c-f33806d3663f: compleated\n",
      "Getting results\n"
     ]
    }
   ],
   "source": [
    "result = session.sql(f\"SELECT max(FL_DATE) FROM read_parquet('{path}')\")"
   ]
  },
  {
   "cell_type": "code",
   "execution_count": 5,
   "metadata": {},
   "outputs": [
    {
     "data": {
      "text/html": [
       "<div>\n",
       "<style scoped>\n",
       "    .dataframe tbody tr th:only-of-type {\n",
       "        vertical-align: middle;\n",
       "    }\n",
       "\n",
       "    .dataframe tbody tr th {\n",
       "        vertical-align: top;\n",
       "    }\n",
       "\n",
       "    .dataframe thead th {\n",
       "        text-align: right;\n",
       "    }\n",
       "</style>\n",
       "<table border=\"1\" class=\"dataframe\">\n",
       "  <thead>\n",
       "    <tr style=\"text-align: right;\">\n",
       "      <th></th>\n",
       "      <th>max(FL_DATE)</th>\n",
       "    </tr>\n",
       "  </thead>\n",
       "  <tbody>\n",
       "    <tr>\n",
       "      <th>0</th>\n",
       "      <td>2006-02-28</td>\n",
       "    </tr>\n",
       "  </tbody>\n",
       "</table>\n",
       "</div>"
      ],
      "text/plain": [
       "  max(FL_DATE)\n",
       "0   2006-02-28"
      ]
     },
     "execution_count": 5,
     "metadata": {},
     "output_type": "execute_result"
    }
   ],
   "source": [
    "result"
   ]
  },
  {
   "cell_type": "code",
   "execution_count": 6,
   "metadata": {},
   "outputs": [
    {
     "data": {
      "text/plain": [
       "<harpy.session.Session at 0x7fa9107e8190>"
      ]
     },
     "execution_count": 6,
     "metadata": {},
     "output_type": "execute_result"
    }
   ],
   "source": [
    "session.close()"
   ]
  },
  {
   "cell_type": "code",
   "execution_count": null,
   "metadata": {},
   "outputs": [],
   "source": []
  }
 ],
 "metadata": {
  "kernelspec": {
   "display_name": "py-client-l-33JfS0-py3.10",
   "language": "python",
   "name": "python3"
  },
  "language_info": {
   "codemirror_mode": {
    "name": "ipython",
    "version": 3
   },
   "file_extension": ".py",
   "mimetype": "text/x-python",
   "name": "python",
   "nbconvert_exporter": "python",
   "pygments_lexer": "ipython3",
   "version": "3.10.12"
  }
 },
 "nbformat": 4,
 "nbformat_minor": 2
}

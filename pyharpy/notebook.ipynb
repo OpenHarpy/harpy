{
 "cells": [
  {
   "cell_type": "code",
   "execution_count": 10,
   "metadata": {},
   "outputs": [],
   "source": [
    "from harpy import (\n",
    "    Session,\n",
    "    MapTask,\n",
    "    ReduceTask,\n",
    "    TransformTask,\n",
    "    Result,\n",
    "    TaskSetResults\n",
    ")\n",
    "\n",
    "session = Session(\n",
    "    \n",
    ").create_session()"
   ]
  },
  {
   "cell_type": "code",
   "execution_count": 13,
   "metadata": {},
   "outputs": [
    {
     "ename": "_InactiveRpcError",
     "evalue": "<_InactiveRpcError of RPC that terminated with:\n\tstatus = StatusCode.UNKNOWN\n\tdetails = \"Exception iterating requests!\"\n\tdebug_error_string = \"None\"\n>",
     "output_type": "error",
     "traceback": [
      "\u001b[0;31m---------------------------------------------------------------------------\u001b[0m",
      "\u001b[0;31m_InactiveRpcError\u001b[0m                         Traceback (most recent call last)",
      "Cell \u001b[0;32mIn[13], line 8\u001b[0m\n\u001b[1;32m      5\u001b[0m     \u001b[38;5;28;01mimport\u001b[39;00m \u001b[38;5;21;01mos\u001b[39;00m\n\u001b[1;32m      6\u001b[0m     \u001b[38;5;28;01mreturn\u001b[39;00m DataFrame(os\u001b[38;5;241m.\u001b[39mlistdir(\u001b[38;5;28mdir\u001b[39m))\n\u001b[0;32m----> 8\u001b[0m \u001b[43mtaskSet\u001b[49m\u001b[38;5;241;43m.\u001b[39;49m\u001b[43madd_maps\u001b[49m\u001b[43m(\u001b[49m\u001b[43m[\u001b[49m\n\u001b[1;32m      9\u001b[0m \u001b[43m    \u001b[49m\u001b[43mMapTask\u001b[49m\u001b[43m(\u001b[49m\u001b[43mname\u001b[49m\u001b[38;5;241;43m=\u001b[39;49m\u001b[38;5;124;43m\"\u001b[39;49m\u001b[38;5;124;43mmap\u001b[39;49m\u001b[38;5;124;43m\"\u001b[39;49m\u001b[43m,\u001b[49m\u001b[43m \u001b[49m\u001b[43mfun\u001b[49m\u001b[38;5;241;43m=\u001b[39;49m\u001b[43mos_ls\u001b[49m\u001b[43m,\u001b[49m\u001b[43m \u001b[49m\u001b[43margs\u001b[49m\u001b[38;5;241;43m=\u001b[39;49m\u001b[43m[\u001b[49m\u001b[43m]\u001b[49m\u001b[43m,\u001b[49m\u001b[43m \u001b[49m\u001b[43mkwargs\u001b[49m\u001b[38;5;241;43m=\u001b[39;49m\u001b[43m{\u001b[49m\u001b[38;5;28;43mdir\u001b[39;49m\u001b[43m:\u001b[49m\u001b[43m \u001b[49m\u001b[38;5;124;43m\"\u001b[39;49m\u001b[38;5;124;43m/Volumes/data\u001b[39;49m\u001b[38;5;124;43m\"\u001b[39;49m\u001b[43m}\u001b[49m\u001b[43m)\u001b[49m\u001b[43m,\u001b[49m\n\u001b[1;32m     10\u001b[0m \u001b[43m]\u001b[49m\u001b[43m)\u001b[49m\n\u001b[1;32m     12\u001b[0m taskSetResult:TaskSetResults \u001b[38;5;241m=\u001b[39m taskSet\u001b[38;5;241m.\u001b[39mexecute()\n",
      "File \u001b[0;32m~/project-quack/harpy/pyharpy/harpy/primitives/__init__.py:20\u001b[0m, in \u001b[0;36mcheck_variable.<locals>.decorator.<locals>.wrapper\u001b[0;34m(*args, **kwargs)\u001b[0m\n\u001b[1;32m     18\u001b[0m \u001b[38;5;28;01mif\u001b[39;00m \u001b[38;5;129;01mnot\u001b[39;00m \u001b[38;5;28mhasattr\u001b[39m(args[\u001b[38;5;241m0\u001b[39m], variable_name) \u001b[38;5;129;01mor\u001b[39;00m \u001b[38;5;28mgetattr\u001b[39m(args[\u001b[38;5;241m0\u001b[39m], variable_name) \u001b[38;5;129;01mis\u001b[39;00m \u001b[38;5;28;01mNone\u001b[39;00m:\n\u001b[1;32m     19\u001b[0m     \u001b[38;5;28;01mraise\u001b[39;00m \u001b[38;5;167;01mValueError\u001b[39;00m(error_message)\n\u001b[0;32m---> 20\u001b[0m \u001b[38;5;28;01mreturn\u001b[39;00m \u001b[43mfunc\u001b[49m\u001b[43m(\u001b[49m\u001b[38;5;241;43m*\u001b[39;49m\u001b[43margs\u001b[49m\u001b[43m,\u001b[49m\u001b[43m \u001b[49m\u001b[38;5;241;43m*\u001b[39;49m\u001b[38;5;241;43m*\u001b[39;49m\u001b[43mkwargs\u001b[49m\u001b[43m)\u001b[49m\n",
      "File \u001b[0;32m~/project-quack/harpy/pyharpy/harpy/tasksets/__init__.py:165\u001b[0m, in \u001b[0;36mTaskSet.add_maps\u001b[0;34m(self, map_tasks)\u001b[0m\n\u001b[1;32m    163\u001b[0m \u001b[38;5;28mself\u001b[39m\u001b[38;5;241m.\u001b[39m_last_function_type \u001b[38;5;241m=\u001b[39m output_types[\u001b[38;5;241m0\u001b[39m]        \n\u001b[1;32m    164\u001b[0m \u001b[38;5;66;03m# Map definition passed all the checks\u001b[39;00m\n\u001b[0;32m--> 165\u001b[0m task_handlers \u001b[38;5;241m=\u001b[39m [\n\u001b[1;32m    166\u001b[0m     \u001b[38;5;28mself\u001b[39m\u001b[38;5;241m.\u001b[39m__stream_task__(map_task)\n\u001b[1;32m    167\u001b[0m     \u001b[38;5;28;01mfor\u001b[39;00m map_task \u001b[38;5;129;01min\u001b[39;00m map_tasks\n\u001b[1;32m    168\u001b[0m ]           \n\u001b[1;32m    169\u001b[0m map_adder \u001b[38;5;241m=\u001b[39m MapAdder(\n\u001b[1;32m    170\u001b[0m     taskSetHandler\u001b[38;5;241m=\u001b[39m\u001b[38;5;28mself\u001b[39m\u001b[38;5;241m.\u001b[39m_taskset_handler,\n\u001b[1;32m    171\u001b[0m     MappersDefinition\u001b[38;5;241m=\u001b[39mtask_handlers\n\u001b[1;32m    172\u001b[0m )\n\u001b[1;32m    173\u001b[0m response \u001b[38;5;241m=\u001b[39m \u001b[38;5;28mself\u001b[39m\u001b[38;5;241m.\u001b[39m_taskset_stub\u001b[38;5;241m.\u001b[39mAddMap(map_adder)\n",
      "File \u001b[0;32m~/project-quack/harpy/pyharpy/harpy/tasksets/__init__.py:166\u001b[0m, in \u001b[0;36m<listcomp>\u001b[0;34m(.0)\u001b[0m\n\u001b[1;32m    163\u001b[0m \u001b[38;5;28mself\u001b[39m\u001b[38;5;241m.\u001b[39m_last_function_type \u001b[38;5;241m=\u001b[39m output_types[\u001b[38;5;241m0\u001b[39m]        \n\u001b[1;32m    164\u001b[0m \u001b[38;5;66;03m# Map definition passed all the checks\u001b[39;00m\n\u001b[1;32m    165\u001b[0m task_handlers \u001b[38;5;241m=\u001b[39m [\n\u001b[0;32m--> 166\u001b[0m     \u001b[38;5;28;43mself\u001b[39;49m\u001b[38;5;241;43m.\u001b[39;49m\u001b[43m__stream_task__\u001b[49m\u001b[43m(\u001b[49m\u001b[43mmap_task\u001b[49m\u001b[43m)\u001b[49m\n\u001b[1;32m    167\u001b[0m     \u001b[38;5;28;01mfor\u001b[39;00m map_task \u001b[38;5;129;01min\u001b[39;00m map_tasks\n\u001b[1;32m    168\u001b[0m ]           \n\u001b[1;32m    169\u001b[0m map_adder \u001b[38;5;241m=\u001b[39m MapAdder(\n\u001b[1;32m    170\u001b[0m     taskSetHandler\u001b[38;5;241m=\u001b[39m\u001b[38;5;28mself\u001b[39m\u001b[38;5;241m.\u001b[39m_taskset_handler,\n\u001b[1;32m    171\u001b[0m     MappersDefinition\u001b[38;5;241m=\u001b[39mtask_handlers\n\u001b[1;32m    172\u001b[0m )\n\u001b[1;32m    173\u001b[0m response \u001b[38;5;241m=\u001b[39m \u001b[38;5;28mself\u001b[39m\u001b[38;5;241m.\u001b[39m_taskset_stub\u001b[38;5;241m.\u001b[39mAddMap(map_adder)\n",
      "File \u001b[0;32m~/project-quack/harpy/pyharpy/harpy/tasksets/__init__.py:136\u001b[0m, in \u001b[0;36mTaskSet.__stream_task__\u001b[0;34m(self, task_definition)\u001b[0m\n\u001b[1;32m    135\u001b[0m \u001b[38;5;28;01mdef\u001b[39;00m \u001b[38;5;21m__stream_task__\u001b[39m(\u001b[38;5;28mself\u001b[39m, task_definition: MapTask \u001b[38;5;241m|\u001b[39m ReduceTask \u001b[38;5;241m|\u001b[39m TransformTask) \u001b[38;5;241m-\u001b[39m\u001b[38;5;241m>\u001b[39m TaskHandler:\n\u001b[0;32m--> 136\u001b[0m     response:TaskHandler \u001b[38;5;241m=\u001b[39m \u001b[38;5;28;43mself\u001b[39;49m\u001b[38;5;241;43m.\u001b[39;49m\u001b[43m_taskset_stub\u001b[49m\u001b[38;5;241;43m.\u001b[39;49m\u001b[43mDefineTask\u001b[49m\u001b[43m(\u001b[49m\n\u001b[1;32m    137\u001b[0m \u001b[43m        \u001b[49m\u001b[43mtaskdefinition_generator\u001b[49m\u001b[43m(\u001b[49m\u001b[43mtask_definition\u001b[49m\u001b[43m)\u001b[49m\n\u001b[1;32m    138\u001b[0m \u001b[43m    \u001b[49m\u001b[43m)\u001b[49m\n\u001b[1;32m    139\u001b[0m     \u001b[38;5;28;01mreturn\u001b[39;00m response\n",
      "File \u001b[0;32m~/.cache/pypoetry/virtualenvs/pyharpy-bb_Z307N-py3.10/lib/python3.10/site-packages/grpc/_channel.py:1536\u001b[0m, in \u001b[0;36m_StreamUnaryMultiCallable.__call__\u001b[0;34m(self, request_iterator, timeout, metadata, credentials, wait_for_ready, compression)\u001b[0m\n\u001b[1;32m   1516\u001b[0m \u001b[38;5;28;01mdef\u001b[39;00m \u001b[38;5;21m__call__\u001b[39m(\n\u001b[1;32m   1517\u001b[0m     \u001b[38;5;28mself\u001b[39m,\n\u001b[1;32m   1518\u001b[0m     request_iterator: Iterator,\n\u001b[0;32m   (...)\u001b[0m\n\u001b[1;32m   1523\u001b[0m     compression: Optional[grpc\u001b[38;5;241m.\u001b[39mCompression] \u001b[38;5;241m=\u001b[39m \u001b[38;5;28;01mNone\u001b[39;00m,\n\u001b[1;32m   1524\u001b[0m ) \u001b[38;5;241m-\u001b[39m\u001b[38;5;241m>\u001b[39m Any:\n\u001b[1;32m   1525\u001b[0m     (\n\u001b[1;32m   1526\u001b[0m         state,\n\u001b[1;32m   1527\u001b[0m         call,\n\u001b[0;32m   (...)\u001b[0m\n\u001b[1;32m   1534\u001b[0m         compression,\n\u001b[1;32m   1535\u001b[0m     )\n\u001b[0;32m-> 1536\u001b[0m     \u001b[38;5;28;01mreturn\u001b[39;00m \u001b[43m_end_unary_response_blocking\u001b[49m\u001b[43m(\u001b[49m\u001b[43mstate\u001b[49m\u001b[43m,\u001b[49m\u001b[43m \u001b[49m\u001b[43mcall\u001b[49m\u001b[43m,\u001b[49m\u001b[43m \u001b[49m\u001b[38;5;28;43;01mFalse\u001b[39;49;00m\u001b[43m,\u001b[49m\u001b[43m \u001b[49m\u001b[38;5;28;43;01mNone\u001b[39;49;00m\u001b[43m)\u001b[49m\n",
      "File \u001b[0;32m~/.cache/pypoetry/virtualenvs/pyharpy-bb_Z307N-py3.10/lib/python3.10/site-packages/grpc/_channel.py:1006\u001b[0m, in \u001b[0;36m_end_unary_response_blocking\u001b[0;34m(state, call, with_call, deadline)\u001b[0m\n\u001b[1;32m   1004\u001b[0m         \u001b[38;5;28;01mreturn\u001b[39;00m state\u001b[38;5;241m.\u001b[39mresponse\n\u001b[1;32m   1005\u001b[0m \u001b[38;5;28;01melse\u001b[39;00m:\n\u001b[0;32m-> 1006\u001b[0m     \u001b[38;5;28;01mraise\u001b[39;00m _InactiveRpcError(state)\n",
      "\u001b[0;31m_InactiveRpcError\u001b[0m: <_InactiveRpcError of RPC that terminated with:\n\tstatus = StatusCode.UNKNOWN\n\tdetails = \"Exception iterating requests!\"\n\tdebug_error_string = \"None\"\n>"
     ]
    }
   ],
   "source": [
    "taskSet = session.create_task_set()\n",
    "\n",
    "from pandas import DataFrame\n",
    "import os \n",
    "def os_ls(dir:str) -> DataFrame:\n",
    "    return DataFrame(os.listdir(dir))\n",
    "\n",
    "taskSet.add_maps([\n",
    "    MapTask(name=\"map\", fun=os_ls, args=[], kwargs={dir: \"/Volumes/data\"}),\n",
    "])\n",
    "\n",
    "taskSetResult:TaskSetResults = taskSet.execute()"
   ]
  },
  {
   "cell_type": "code",
   "execution_count": 2,
   "metadata": {},
   "outputs": [
    {
     "name": "stdout",
     "output_type": "stream",
     "text": [
      "TaskSet ts-570b25bc-7f39-40cd-9f0c-49c8b420bea7: running\n",
      "TaskGroup tg-cdc45c86-f89e-4301-b7b0-504f844dcad1 made progress\n",
      "TaskGroup tg-cdc45c86-f89e-4301-b7b0-504f844dcad1 made progress\n",
      "Task tg-cdc45c86-f89e-4301-b7b0-504f844dcad1-tr-0: queued\n",
      "TaskGroup tg-cdc45c86-f89e-4301-b7b0-504f844dcad1 made progress\n",
      "Task tg-cdc45c86-f89e-4301-b7b0-504f844dcad1-tr-0: running\n",
      "Task tg-cdc45c86-f89e-4301-b7b0-504f844dcad1-tr-0: done\n",
      "TaskGroup tg-cdc45c86-f89e-4301-b7b0-504f844dcad1 made progress\n",
      "TaskSet ts-570b25bc-7f39-40cd-9f0c-49c8b420bea7: compleated\n",
      "Getting results\n"
     ]
    },
    {
     "ename": "SQLException",
     "evalue": "Query failed with error: b'Traceback (most recent call last):\\n  File \"/opt/remote-runner/_python_base/isolated-session-83289b4b-8a32-49cd-9119-c3184ea61be5/main.py\", line 47, in <module>\\n    main()\\n  File \"/opt/remote-runner/_python_base/isolated-session-83289b4b-8a32-49cd-9119-c3184ea61be5/main.py\", line 40, in main\\n    return_object = unpickled_func(*args, **kwargs)\\n  File \"/opt/remote-runner/_python_base/venv/lib/python3.10/site-packages/harpy/session/__init__.py\", line 26, in quack_query_pandas\\n    return qc.sql(query).fetchdf()\\n  File \"/opt/remote-runner/_python_base/venv/lib/python3.10/site-packages/harpy/quack/__init__.py\", line 13, in sql\\n    return self.duck.execute(query)\\nduckdb.duckdb.IOException: IO Error: No files found that match the pattern \"/Volumes/data/Flights_1m.parquet\"\\n'",
     "output_type": "error",
     "traceback": [
      "\u001b[0;31m---------------------------------------------------------------------------\u001b[0m",
      "\u001b[0;31mSQLException\u001b[0m                              Traceback (most recent call last)",
      "Cell \u001b[0;32mIn[2], line 2\u001b[0m\n\u001b[1;32m      1\u001b[0m path \u001b[38;5;241m=\u001b[39m \u001b[38;5;124m\"\u001b[39m\u001b[38;5;124m/Volumes/data/Flights_1m.parquet\u001b[39m\u001b[38;5;124m\"\u001b[39m\n\u001b[0;32m----> 2\u001b[0m result \u001b[38;5;241m=\u001b[39m \u001b[43msession\u001b[49m\u001b[38;5;241;43m.\u001b[39;49m\u001b[43msql\u001b[49m\u001b[43m(\u001b[49m\u001b[38;5;124;43mf\u001b[39;49m\u001b[38;5;124;43m\"\u001b[39;49m\u001b[38;5;124;43mSELECT * FROM read_parquet(\u001b[39;49m\u001b[38;5;124;43m'\u001b[39;49m\u001b[38;5;132;43;01m{\u001b[39;49;00m\u001b[43mpath\u001b[49m\u001b[38;5;132;43;01m}\u001b[39;49;00m\u001b[38;5;124;43m'\u001b[39;49m\u001b[38;5;124;43m)\u001b[39;49m\u001b[38;5;124;43m\"\u001b[39;49m\u001b[43m)\u001b[49m\n",
      "File \u001b[0;32m~/project-quack/harpy/pyharpy/harpy/session/__init__.py:56\u001b[0m, in \u001b[0;36mSession.sql\u001b[0;34m(self, query, return_type)\u001b[0m\n\u001b[1;32m     54\u001b[0m     \u001b[38;5;28;01mreturn\u001b[39;00m result\u001b[38;5;241m.\u001b[39mresults[\u001b[38;5;241m0\u001b[39m]\u001b[38;5;241m.\u001b[39mresult\n\u001b[1;32m     55\u001b[0m \u001b[38;5;28;01melse\u001b[39;00m:\n\u001b[0;32m---> 56\u001b[0m     \u001b[38;5;28;01mraise\u001b[39;00m SQLException(\u001b[38;5;124mf\u001b[39m\u001b[38;5;124m\"\u001b[39m\u001b[38;5;124mQuery failed with error: \u001b[39m\u001b[38;5;132;01m{\u001b[39;00mresult\u001b[38;5;241m.\u001b[39mresults[\u001b[38;5;241m0\u001b[39m]\u001b[38;5;241m.\u001b[39mstd_err\u001b[38;5;132;01m}\u001b[39;00m\u001b[38;5;124m\"\u001b[39m)\n",
      "\u001b[0;31mSQLException\u001b[0m: Query failed with error: b'Traceback (most recent call last):\\n  File \"/opt/remote-runner/_python_base/isolated-session-83289b4b-8a32-49cd-9119-c3184ea61be5/main.py\", line 47, in <module>\\n    main()\\n  File \"/opt/remote-runner/_python_base/isolated-session-83289b4b-8a32-49cd-9119-c3184ea61be5/main.py\", line 40, in main\\n    return_object = unpickled_func(*args, **kwargs)\\n  File \"/opt/remote-runner/_python_base/venv/lib/python3.10/site-packages/harpy/session/__init__.py\", line 26, in quack_query_pandas\\n    return qc.sql(query).fetchdf()\\n  File \"/opt/remote-runner/_python_base/venv/lib/python3.10/site-packages/harpy/quack/__init__.py\", line 13, in sql\\n    return self.duck.execute(query)\\nduckdb.duckdb.IOException: IO Error: No files found that match the pattern \"/Volumes/data/Flights_1m.parquet\"\\n'"
     ]
    }
   ],
   "source": [
    "path = \"/Volumes/data/Flights_1m.parquet\"\n",
    "result = session.sql(f\"SELECT * FROM read_parquet('{path}')\")"
   ]
  },
  {
   "cell_type": "code",
   "execution_count": 3,
   "metadata": {},
   "outputs": [],
   "source": []
  },
  {
   "cell_type": "code",
   "execution_count": 4,
   "metadata": {},
   "outputs": [
    {
     "ename": "_InactiveRpcError",
     "evalue": "<_InactiveRpcError of RPC that terminated with:\n\tstatus = StatusCode.UNKNOWN\n\tdetails = \"Exception iterating requests!\"\n\tdebug_error_string = \"None\"\n>",
     "output_type": "error",
     "traceback": [
      "\u001b[0;31m---------------------------------------------------------------------------\u001b[0m",
      "\u001b[0;31m_InactiveRpcError\u001b[0m                         Traceback (most recent call last)",
      "Cell \u001b[0;32mIn[4], line 3\u001b[0m\n\u001b[1;32m      1\u001b[0m taskSet \u001b[38;5;241m=\u001b[39m session\u001b[38;5;241m.\u001b[39mcreate_task_set()\n\u001b[0;32m----> 3\u001b[0m \u001b[43mtaskSet\u001b[49m\u001b[38;5;241;43m.\u001b[39;49m\u001b[43madd_maps\u001b[49m\u001b[43m(\u001b[49m\u001b[43m[\u001b[49m\n\u001b[1;32m      4\u001b[0m \u001b[43m    \u001b[49m\u001b[43mMapTask\u001b[49m\u001b[43m(\u001b[49m\u001b[43mname\u001b[49m\u001b[38;5;241;43m=\u001b[39;49m\u001b[38;5;124;43m\"\u001b[39;49m\u001b[38;5;124;43mmap\u001b[39;49m\u001b[38;5;124;43m\"\u001b[39;49m\u001b[43m,\u001b[49m\u001b[43m \u001b[49m\u001b[43mfun\u001b[49m\u001b[38;5;241;43m=\u001b[39;49m\u001b[43mos_ls\u001b[49m\u001b[43m,\u001b[49m\u001b[43m \u001b[49m\u001b[43margs\u001b[49m\u001b[38;5;241;43m=\u001b[39;49m\u001b[43m[\u001b[49m\u001b[43m]\u001b[49m\u001b[43m,\u001b[49m\u001b[43m \u001b[49m\u001b[43mkwargs\u001b[49m\u001b[38;5;241;43m=\u001b[39;49m\u001b[43m{\u001b[49m\u001b[38;5;28;43mdir\u001b[39;49m\u001b[43m:\u001b[49m\u001b[43m \u001b[49m\u001b[38;5;124;43m\"\u001b[39;49m\u001b[38;5;124;43m/Volumes/data\u001b[39;49m\u001b[38;5;124;43m\"\u001b[39;49m\u001b[43m}\u001b[49m\u001b[43m)\u001b[49m\u001b[43m,\u001b[49m\n\u001b[1;32m      5\u001b[0m \u001b[43m]\u001b[49m\u001b[43m)\u001b[49m\n\u001b[1;32m      7\u001b[0m taskSetResult:TaskSetResults \u001b[38;5;241m=\u001b[39m taskSet\u001b[38;5;241m.\u001b[39mexecute()\n",
      "File \u001b[0;32m~/project-quack/harpy/pyharpy/harpy/primitives/__init__.py:20\u001b[0m, in \u001b[0;36mcheck_variable.<locals>.decorator.<locals>.wrapper\u001b[0;34m(*args, **kwargs)\u001b[0m\n\u001b[1;32m     18\u001b[0m \u001b[38;5;28;01mif\u001b[39;00m \u001b[38;5;129;01mnot\u001b[39;00m \u001b[38;5;28mhasattr\u001b[39m(args[\u001b[38;5;241m0\u001b[39m], variable_name) \u001b[38;5;129;01mor\u001b[39;00m \u001b[38;5;28mgetattr\u001b[39m(args[\u001b[38;5;241m0\u001b[39m], variable_name) \u001b[38;5;129;01mis\u001b[39;00m \u001b[38;5;28;01mNone\u001b[39;00m:\n\u001b[1;32m     19\u001b[0m     \u001b[38;5;28;01mraise\u001b[39;00m \u001b[38;5;167;01mValueError\u001b[39;00m(error_message)\n\u001b[0;32m---> 20\u001b[0m \u001b[38;5;28;01mreturn\u001b[39;00m \u001b[43mfunc\u001b[49m\u001b[43m(\u001b[49m\u001b[38;5;241;43m*\u001b[39;49m\u001b[43margs\u001b[49m\u001b[43m,\u001b[49m\u001b[43m \u001b[49m\u001b[38;5;241;43m*\u001b[39;49m\u001b[38;5;241;43m*\u001b[39;49m\u001b[43mkwargs\u001b[49m\u001b[43m)\u001b[49m\n",
      "File \u001b[0;32m~/project-quack/harpy/pyharpy/harpy/tasksets/__init__.py:165\u001b[0m, in \u001b[0;36mTaskSet.add_maps\u001b[0;34m(self, map_tasks)\u001b[0m\n\u001b[1;32m    163\u001b[0m \u001b[38;5;28mself\u001b[39m\u001b[38;5;241m.\u001b[39m_last_function_type \u001b[38;5;241m=\u001b[39m output_types[\u001b[38;5;241m0\u001b[39m]        \n\u001b[1;32m    164\u001b[0m \u001b[38;5;66;03m# Map definition passed all the checks\u001b[39;00m\n\u001b[0;32m--> 165\u001b[0m task_handlers \u001b[38;5;241m=\u001b[39m [\n\u001b[1;32m    166\u001b[0m     \u001b[38;5;28mself\u001b[39m\u001b[38;5;241m.\u001b[39m__stream_task__(map_task)\n\u001b[1;32m    167\u001b[0m     \u001b[38;5;28;01mfor\u001b[39;00m map_task \u001b[38;5;129;01min\u001b[39;00m map_tasks\n\u001b[1;32m    168\u001b[0m ]           \n\u001b[1;32m    169\u001b[0m map_adder \u001b[38;5;241m=\u001b[39m MapAdder(\n\u001b[1;32m    170\u001b[0m     taskSetHandler\u001b[38;5;241m=\u001b[39m\u001b[38;5;28mself\u001b[39m\u001b[38;5;241m.\u001b[39m_taskset_handler,\n\u001b[1;32m    171\u001b[0m     MappersDefinition\u001b[38;5;241m=\u001b[39mtask_handlers\n\u001b[1;32m    172\u001b[0m )\n\u001b[1;32m    173\u001b[0m response \u001b[38;5;241m=\u001b[39m \u001b[38;5;28mself\u001b[39m\u001b[38;5;241m.\u001b[39m_taskset_stub\u001b[38;5;241m.\u001b[39mAddMap(map_adder)\n",
      "File \u001b[0;32m~/project-quack/harpy/pyharpy/harpy/tasksets/__init__.py:166\u001b[0m, in \u001b[0;36m<listcomp>\u001b[0;34m(.0)\u001b[0m\n\u001b[1;32m    163\u001b[0m \u001b[38;5;28mself\u001b[39m\u001b[38;5;241m.\u001b[39m_last_function_type \u001b[38;5;241m=\u001b[39m output_types[\u001b[38;5;241m0\u001b[39m]        \n\u001b[1;32m    164\u001b[0m \u001b[38;5;66;03m# Map definition passed all the checks\u001b[39;00m\n\u001b[1;32m    165\u001b[0m task_handlers \u001b[38;5;241m=\u001b[39m [\n\u001b[0;32m--> 166\u001b[0m     \u001b[38;5;28;43mself\u001b[39;49m\u001b[38;5;241;43m.\u001b[39;49m\u001b[43m__stream_task__\u001b[49m\u001b[43m(\u001b[49m\u001b[43mmap_task\u001b[49m\u001b[43m)\u001b[49m\n\u001b[1;32m    167\u001b[0m     \u001b[38;5;28;01mfor\u001b[39;00m map_task \u001b[38;5;129;01min\u001b[39;00m map_tasks\n\u001b[1;32m    168\u001b[0m ]           \n\u001b[1;32m    169\u001b[0m map_adder \u001b[38;5;241m=\u001b[39m MapAdder(\n\u001b[1;32m    170\u001b[0m     taskSetHandler\u001b[38;5;241m=\u001b[39m\u001b[38;5;28mself\u001b[39m\u001b[38;5;241m.\u001b[39m_taskset_handler,\n\u001b[1;32m    171\u001b[0m     MappersDefinition\u001b[38;5;241m=\u001b[39mtask_handlers\n\u001b[1;32m    172\u001b[0m )\n\u001b[1;32m    173\u001b[0m response \u001b[38;5;241m=\u001b[39m \u001b[38;5;28mself\u001b[39m\u001b[38;5;241m.\u001b[39m_taskset_stub\u001b[38;5;241m.\u001b[39mAddMap(map_adder)\n",
      "File \u001b[0;32m~/project-quack/harpy/pyharpy/harpy/tasksets/__init__.py:136\u001b[0m, in \u001b[0;36mTaskSet.__stream_task__\u001b[0;34m(self, task_definition)\u001b[0m\n\u001b[1;32m    135\u001b[0m \u001b[38;5;28;01mdef\u001b[39;00m \u001b[38;5;21m__stream_task__\u001b[39m(\u001b[38;5;28mself\u001b[39m, task_definition: MapTask \u001b[38;5;241m|\u001b[39m ReduceTask \u001b[38;5;241m|\u001b[39m TransformTask) \u001b[38;5;241m-\u001b[39m\u001b[38;5;241m>\u001b[39m TaskHandler:\n\u001b[0;32m--> 136\u001b[0m     response:TaskHandler \u001b[38;5;241m=\u001b[39m \u001b[38;5;28;43mself\u001b[39;49m\u001b[38;5;241;43m.\u001b[39;49m\u001b[43m_taskset_stub\u001b[49m\u001b[38;5;241;43m.\u001b[39;49m\u001b[43mDefineTask\u001b[49m\u001b[43m(\u001b[49m\n\u001b[1;32m    137\u001b[0m \u001b[43m        \u001b[49m\u001b[43mtaskdefinition_generator\u001b[49m\u001b[43m(\u001b[49m\u001b[43mtask_definition\u001b[49m\u001b[43m)\u001b[49m\n\u001b[1;32m    138\u001b[0m \u001b[43m    \u001b[49m\u001b[43m)\u001b[49m\n\u001b[1;32m    139\u001b[0m     \u001b[38;5;28;01mreturn\u001b[39;00m response\n",
      "File \u001b[0;32m~/.cache/pypoetry/virtualenvs/pyharpy-bb_Z307N-py3.10/lib/python3.10/site-packages/grpc/_channel.py:1536\u001b[0m, in \u001b[0;36m_StreamUnaryMultiCallable.__call__\u001b[0;34m(self, request_iterator, timeout, metadata, credentials, wait_for_ready, compression)\u001b[0m\n\u001b[1;32m   1516\u001b[0m \u001b[38;5;28;01mdef\u001b[39;00m \u001b[38;5;21m__call__\u001b[39m(\n\u001b[1;32m   1517\u001b[0m     \u001b[38;5;28mself\u001b[39m,\n\u001b[1;32m   1518\u001b[0m     request_iterator: Iterator,\n\u001b[0;32m   (...)\u001b[0m\n\u001b[1;32m   1523\u001b[0m     compression: Optional[grpc\u001b[38;5;241m.\u001b[39mCompression] \u001b[38;5;241m=\u001b[39m \u001b[38;5;28;01mNone\u001b[39;00m,\n\u001b[1;32m   1524\u001b[0m ) \u001b[38;5;241m-\u001b[39m\u001b[38;5;241m>\u001b[39m Any:\n\u001b[1;32m   1525\u001b[0m     (\n\u001b[1;32m   1526\u001b[0m         state,\n\u001b[1;32m   1527\u001b[0m         call,\n\u001b[0;32m   (...)\u001b[0m\n\u001b[1;32m   1534\u001b[0m         compression,\n\u001b[1;32m   1535\u001b[0m     )\n\u001b[0;32m-> 1536\u001b[0m     \u001b[38;5;28;01mreturn\u001b[39;00m \u001b[43m_end_unary_response_blocking\u001b[49m\u001b[43m(\u001b[49m\u001b[43mstate\u001b[49m\u001b[43m,\u001b[49m\u001b[43m \u001b[49m\u001b[43mcall\u001b[49m\u001b[43m,\u001b[49m\u001b[43m \u001b[49m\u001b[38;5;28;43;01mFalse\u001b[39;49;00m\u001b[43m,\u001b[49m\u001b[43m \u001b[49m\u001b[38;5;28;43;01mNone\u001b[39;49;00m\u001b[43m)\u001b[49m\n",
      "File \u001b[0;32m~/.cache/pypoetry/virtualenvs/pyharpy-bb_Z307N-py3.10/lib/python3.10/site-packages/grpc/_channel.py:1006\u001b[0m, in \u001b[0;36m_end_unary_response_blocking\u001b[0;34m(state, call, with_call, deadline)\u001b[0m\n\u001b[1;32m   1004\u001b[0m         \u001b[38;5;28;01mreturn\u001b[39;00m state\u001b[38;5;241m.\u001b[39mresponse\n\u001b[1;32m   1005\u001b[0m \u001b[38;5;28;01melse\u001b[39;00m:\n\u001b[0;32m-> 1006\u001b[0m     \u001b[38;5;28;01mraise\u001b[39;00m _InactiveRpcError(state)\n",
      "\u001b[0;31m_InactiveRpcError\u001b[0m: <_InactiveRpcError of RPC that terminated with:\n\tstatus = StatusCode.UNKNOWN\n\tdetails = \"Exception iterating requests!\"\n\tdebug_error_string = \"None\"\n>"
     ]
    }
   ],
   "source": []
  },
  {
   "cell_type": "code",
   "execution_count": 4,
   "metadata": {},
   "outputs": [
    {
     "name": "stdout",
     "output_type": "stream",
     "text": [
      "TaskSet ts-4f885236-b34d-4a8e-a97f-2a6d8d6ba2e2: running\n",
      "TaskGroup tg-9b480a93-06a7-4bed-a9cb-712f77f72940 made progress\n",
      "TaskGroup tg-9b480a93-06a7-4bed-a9cb-712f77f72940 made progress\n",
      "Task tg-9b480a93-06a7-4bed-a9cb-712f77f72940-tr-0: queued\n",
      "TaskGroup tg-9b480a93-06a7-4bed-a9cb-712f77f72940 made progress\n",
      "Task tg-9b480a93-06a7-4bed-a9cb-712f77f72940-tr-0: running\n",
      "Task tg-9b480a93-06a7-4bed-a9cb-712f77f72940-tr-0: done\n",
      "TaskGroup tg-9b480a93-06a7-4bed-a9cb-712f77f72940 made progress\n",
      "TaskSet ts-4f885236-b34d-4a8e-a97f-2a6d8d6ba2e2: compleated\n",
      "Getting results\n"
     ]
    }
   ],
   "source": [
    "result = session.sql(f\"SELECT max(FL_DATE) FROM read_parquet('{path}')\")"
   ]
  },
  {
   "cell_type": "code",
   "execution_count": 5,
   "metadata": {},
   "outputs": [
    {
     "data": {
      "text/html": [
       "<div>\n",
       "<style scoped>\n",
       "    .dataframe tbody tr th:only-of-type {\n",
       "        vertical-align: middle;\n",
       "    }\n",
       "\n",
       "    .dataframe tbody tr th {\n",
       "        vertical-align: top;\n",
       "    }\n",
       "\n",
       "    .dataframe thead th {\n",
       "        text-align: right;\n",
       "    }\n",
       "</style>\n",
       "<table border=\"1\" class=\"dataframe\">\n",
       "  <thead>\n",
       "    <tr style=\"text-align: right;\">\n",
       "      <th></th>\n",
       "      <th>max(FL_DATE)</th>\n",
       "    </tr>\n",
       "  </thead>\n",
       "  <tbody>\n",
       "    <tr>\n",
       "      <th>0</th>\n",
       "      <td>2006-02-28</td>\n",
       "    </tr>\n",
       "  </tbody>\n",
       "</table>\n",
       "</div>"
      ],
      "text/plain": [
       "  max(FL_DATE)\n",
       "0   2006-02-28"
      ]
     },
     "execution_count": 5,
     "metadata": {},
     "output_type": "execute_result"
    }
   ],
   "source": [
    "result"
   ]
  },
  {
   "cell_type": "code",
   "execution_count": 9,
   "metadata": {},
   "outputs": [
    {
     "data": {
      "text/plain": [
       "<harpy.session.Session at 0x7f12e46e8940>"
      ]
     },
     "execution_count": 9,
     "metadata": {},
     "output_type": "execute_result"
    }
   ],
   "source": [
    "session.close()"
   ]
  },
  {
   "cell_type": "code",
   "execution_count": null,
   "metadata": {},
   "outputs": [],
   "source": []
  }
 ],
 "metadata": {
  "kernelspec": {
   "display_name": "py-client-l-33JfS0-py3.10",
   "language": "python",
   "name": "python3"
  },
  "language_info": {
   "codemirror_mode": {
    "name": "ipython",
    "version": 3
   },
   "file_extension": ".py",
   "mimetype": "text/x-python",
   "name": "python",
   "nbconvert_exporter": "python",
   "pygments_lexer": "ipython3",
   "version": "3.10.12"
  }
 },
 "nbformat": 4,
 "nbformat_minor": 2
}
